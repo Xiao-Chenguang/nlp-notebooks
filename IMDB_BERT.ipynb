{
 "cells": [
  {
   "cell_type": "code",
   "execution_count": 1,
   "metadata": {},
   "outputs": [
    {
     "name": "stderr",
     "output_type": "stream",
     "text": [
      "/bask/homes/c/cxx075/Chenguang/projects/nlp-notebooks/.venv/lib/python3.12/site-packages/torchtext/datasets/__init__.py:4: UserWarning: \n",
      "/!\\ IMPORTANT WARNING ABOUT TORCHTEXT STATUS /!\\ \n",
      "Torchtext is deprecated and the last released version will be 0.18 (this one). You can silence this warning by calling the following at the beginnign of your scripts: `import torchtext; torchtext.disable_torchtext_deprecation_warning()`\n",
      "  warnings.warn(torchtext._TORCHTEXT_DEPRECATION_MSG)\n",
      "/bask/homes/c/cxx075/Chenguang/projects/nlp-notebooks/.venv/lib/python3.12/site-packages/torchtext/data/__init__.py:4: UserWarning: \n",
      "/!\\ IMPORTANT WARNING ABOUT TORCHTEXT STATUS /!\\ \n",
      "Torchtext is deprecated and the last released version will be 0.18 (this one). You can silence this warning by calling the following at the beginnign of your scripts: `import torchtext; torchtext.disable_torchtext_deprecation_warning()`\n",
      "  warnings.warn(torchtext._TORCHTEXT_DEPRECATION_MSG)\n"
     ]
    }
   ],
   "source": [
    "import torch\n",
    "from sklearn.metrics import accuracy_score\n",
    "from torch.utils.data import DataLoader, TensorDataset\n",
    "from torchtext.datasets import IMDB\n",
    "from transformers import (\n",
    "    BertModel,\n",
    "    BertTokenizer,\n",
    ")\n",
    "\n",
    "DEVICE = torch.device(\"cuda\" if torch.cuda.is_available() else \"cpu\")\n"
   ]
  },
  {
   "cell_type": "markdown",
   "metadata": {},
   "source": [
    "## Prepare the IMDB dataset and the BERT model"
   ]
  },
  {
   "cell_type": "code",
   "execution_count": 2,
   "metadata": {},
   "outputs": [
    {
     "name": "stderr",
     "output_type": "stream",
     "text": [
      "/bask/homes/c/cxx075/Chenguang/projects/nlp-notebooks/.venv/lib/python3.12/site-packages/torchdata/datapipes/__init__.py:18: UserWarning: \n",
      "################################################################################\n",
      "WARNING!\n",
      "The 'datapipes', 'dataloader2' modules are deprecated and will be removed in a\n",
      "future torchdata release! Please see https://github.com/pytorch/data/issues/1196\n",
      "to learn more and leave feedback.\n",
      "################################################################################\n",
      "\n",
      "  deprecation_warning()\n"
     ]
    }
   ],
   "source": [
    "# Preprocessing and Tokenization function\n",
    "def preprocess(batch):\n",
    "    labels, texts = zip(*batch)\n",
    "    inputs = tokenizer(\n",
    "        list(texts), padding=True, truncation=True, return_tensors=\"pt\", max_length=512\n",
    "    )\n",
    "    labels = torch.tensor(labels) - 1  # Label 0-indexed for PyTorch\n",
    "    return inputs, labels\n",
    "\n",
    "\n",
    "# Load AG News Dataset\n",
    "train_datapip = IMDB(split=\"train\")  # type: ignore\n",
    "test_datapip = IMDB(split=\"test\")  # type: ignore\n",
    "\n",
    "# Define tokenizer and model\n",
    "tokenizer = BertTokenizer.from_pretrained(\"bert-base-uncased\")\n",
    "model = BertModel.from_pretrained(\"bert-base-uncased\").to(DEVICE)  # type: ignore\n",
    "\n",
    "batch_size = 128\n",
    "train_loader = DataLoader(train_datapip, batch_size, True, collate_fn=preprocess)\n",
    "test_loader = DataLoader(test_datapip, batch_size, collate_fn=preprocess)"
   ]
  },
  {
   "cell_type": "markdown",
   "metadata": {},
   "source": [
    "## Convert text input into BERT embeddings"
   ]
  },
  {
   "cell_type": "code",
   "execution_count": 3,
   "metadata": {},
   "outputs": [
    {
     "name": "stdout",
     "output_type": "stream",
     "text": [
      "Computing train embeddings\n",
      "Computing test embeddings\n"
     ]
    }
   ],
   "source": [
    "# only use first 10 batches for faster computation\n",
    "# change this to a larger number like 1000000 to use the full dataset\n",
    "batches = 10\n",
    "\n",
    "train_embeddings = []\n",
    "train_labels = []\n",
    "test_embeddings = []\n",
    "test_labels = []\n",
    "with torch.no_grad():\n",
    "    print(\"Computing train embeddings\")\n",
    "    for i, (inputs, labels) in enumerate(train_loader):\n",
    "        outputs = model(**{k: v.to(DEVICE) for k, v in inputs.items()})\n",
    "        train_embeddings.append(outputs.last_hidden_state.cpu())\n",
    "        train_labels.append(labels)\n",
    "        if i == batches:\n",
    "            break\n",
    "    print(\"Computing test embeddings\")\n",
    "    for i, (inputs, labels) in enumerate(test_loader):\n",
    "        outputs = model(**{k: v.to(DEVICE) for k, v in inputs.items()})\n",
    "        test_embeddings.append(outputs.last_hidden_state.cpu())\n",
    "        test_labels.append(labels)\n",
    "        if i == batches:\n",
    "            break\n",
    "\n",
    "train_embeddings = torch.cat(train_embeddings)\n",
    "train_labels = torch.cat(train_labels)\n",
    "test_embeddings = torch.cat(test_embeddings)\n",
    "test_labels = torch.cat(test_labels)\n"
   ]
  },
  {
   "cell_type": "code",
   "execution_count": 4,
   "metadata": {},
   "outputs": [],
   "source": [
    "del model  # free up memory"
   ]
  },
  {
   "cell_type": "markdown",
   "metadata": {},
   "source": [
    "## Define the classification model and embeddinng dataset"
   ]
  },
  {
   "cell_type": "code",
   "execution_count": 5,
   "metadata": {},
   "outputs": [],
   "source": [
    "classifier = torch.nn.Linear(768 * 512, 1).to(DEVICE)\n",
    "criterion = torch.nn.BCELoss()\n",
    "optimizer = torch.optim.Adam(classifier.parameters(), lr=1e-5)\n",
    "\n",
    "random_idx = torch.randperm(len(train_embeddings))\n",
    "\n",
    "train_dataset = TensorDataset(train_embeddings, train_labels)  # type: ignore\n",
    "test_dataset = TensorDataset(test_embeddings, test_labels)  # type: ignore\n",
    "train_loader = DataLoader(train_dataset, batch_size=32, shuffle=True)\n",
    "test_loader = DataLoader(test_dataset, batch_size=32)\n"
   ]
  },
  {
   "cell_type": "markdown",
   "metadata": {},
   "source": [
    "## Training and evaluation"
   ]
  },
  {
   "cell_type": "code",
   "execution_count": 6,
   "metadata": {},
   "outputs": [
    {
     "name": "stdout",
     "output_type": "stream",
     "text": [
      "Epoch 1/1, Training Loss: 2.0742, Test Accuracy: 1.0000\n",
      "Training complete.\n"
     ]
    }
   ],
   "source": [
    "# Training function\n",
    "def train(model, loader, optimizer):\n",
    "    model.train()\n",
    "    total_loss = 0\n",
    "    for step, (inputs, labels) in enumerate(loader):\n",
    "        inputs = inputs.to(DEVICE).view(inputs.size(0), -1)\n",
    "        labels = labels.to(DEVICE).float()\n",
    "        optimizer.zero_grad()\n",
    "        # outputs = model(**inputs, labels=labels)\n",
    "        outputs = model(inputs).squeeze().sigmoid()\n",
    "        loss = criterion(outputs, labels)\n",
    "        loss.backward()\n",
    "        optimizer.step()\n",
    "        total_loss += loss.item()\n",
    "    return total_loss\n",
    "\n",
    "\n",
    "# Evaluation function\n",
    "def evaluate(model, loader):\n",
    "    model.eval()\n",
    "    preds, true_labels = [], []\n",
    "    with torch.no_grad():\n",
    "        for step, (inputs, labels) in enumerate(loader):\n",
    "            true_labels.extend(labels.tolist())\n",
    "            inputs = inputs.to(DEVICE).view(inputs.size(0), -1)\n",
    "            labels = labels.to(DEVICE).float()\n",
    "            outputs = model(inputs).squeeze() > 0\n",
    "            preds.extend(outputs.cpu().tolist())\n",
    "    return accuracy_score(true_labels, preds)\n",
    "\n",
    "\n",
    "# Training loop\n",
    "num_epochs = 1\n",
    "\n",
    "for epoch in range(num_epochs):\n",
    "    train_loss = train(classifier, train_loader, optimizer)\n",
    "    test_accuracy = evaluate(classifier, test_loader)\n",
    "    print(\n",
    "        f\"Epoch {epoch+1}/{num_epochs}, Training Loss: {train_loss:.4f}, Test Accuracy: {test_accuracy:.4f}\"\n",
    "    )\n",
    "\n",
    "print(\"Training complete.\")"
   ]
  },
  {
   "cell_type": "code",
   "execution_count": null,
   "metadata": {},
   "outputs": [],
   "source": []
  }
 ],
 "metadata": {
  "kernelspec": {
   "display_name": ".venv",
   "language": "python",
   "name": "python3"
  },
  "language_info": {
   "codemirror_mode": {
    "name": "ipython",
    "version": 3
   },
   "file_extension": ".py",
   "mimetype": "text/x-python",
   "name": "python",
   "nbconvert_exporter": "python",
   "pygments_lexer": "ipython3",
   "version": "3.12.6"
  }
 },
 "nbformat": 4,
 "nbformat_minor": 2
}
