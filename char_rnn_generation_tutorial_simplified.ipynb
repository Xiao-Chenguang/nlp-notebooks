{
 "cells": [
  {
   "cell_type": "code",
   "execution_count": 62,
   "metadata": {
    "collapsed": false
   },
   "outputs": [],
   "source": [
    "# For tips on running notebooks in Google Colab, see\n",
    "# https://pytorch.org/tutorials/beginner/colab\n",
    "%matplotlib inline"
   ]
  },
  {
   "cell_type": "code",
   "execution_count": 63,
   "metadata": {
    "collapsed": false
   },
   "outputs": [
    {
     "name": "stdout",
     "output_type": "stream",
     "text": [
      "# categories: 18 ['Czech', 'German', 'Arabic', 'Japanese', 'Chinese', 'Vietnamese', 'Russian', 'French', 'Irish', 'English', 'Spanish', 'Greek', 'Italian', 'Portuguese', 'Scottish', 'Dutch', 'Korean', 'Polish']\n",
      "O'Neal\n"
     ]
    }
   ],
   "source": [
    "import glob\n",
    "import os\n",
    "import string\n",
    "import unicodedata\n",
    "from io import open\n",
    "\n",
    "import torch\n",
    "\n",
    "all_letters = string.ascii_letters + \" .,;'-\"\n",
    "letter_to_index = {letter: i for i, letter in enumerate(all_letters)}\n",
    "n_letters = len(all_letters) + 1  # Plus EOS marker\n",
    "\n",
    "\n",
    "def findFiles(path):\n",
    "    return glob.glob(path)\n",
    "\n",
    "\n",
    "# Turn a Unicode string to plain ASCII, thanks to https://stackoverflow.com/a/518232/2809427\n",
    "def unicodeToAscii(s):\n",
    "    return \"\".join(\n",
    "        c\n",
    "        for c in unicodedata.normalize(\"NFD\", s)\n",
    "        if unicodedata.category(c) != \"Mn\" and c in all_letters\n",
    "    )\n",
    "\n",
    "\n",
    "# Read a file and split into lines\n",
    "def readLines(filename):\n",
    "    with open(filename, encoding=\"utf-8\") as some_file:\n",
    "        return [unicodeToAscii(line.strip()) for line in some_file]\n",
    "\n",
    "\n",
    "# Build the category_lines dictionary, a list of lines per category\n",
    "all_categories = []\n",
    "names_tensor = []\n",
    "labels_tensor = []\n",
    "for i, filename in enumerate(findFiles(\"data/names/*.txt\")):\n",
    "    category = os.path.splitext(os.path.basename(filename))[0]\n",
    "    all_categories.append(category)\n",
    "    lines = readLines(filename)\n",
    "    names_tensor += [torch.tensor([letter_to_index[c] for c in line]) for line in lines]\n",
    "    labels_tensor += [i] * len(lines)\n",
    "\n",
    "labels_tensor = torch.tensor(labels_tensor)\n",
    "\n",
    "n_categories = len(all_categories)\n",
    "\n",
    "if n_categories == 0:\n",
    "    raise RuntimeError(\n",
    "        \"Data not found. Make sure that you downloaded data \"\n",
    "        \"from https://download.pytorch.org/tutorial/data.zip and extract it to \"\n",
    "        \"the current directory.\"\n",
    "    )\n",
    "\n",
    "print(\"# categories:\", n_categories, all_categories)\n",
    "print(unicodeToAscii(\"O'Néàl\"))"
   ]
  },
  {
   "cell_type": "code",
   "execution_count": 64,
   "metadata": {
    "collapsed": false
   },
   "outputs": [],
   "source": [
    "import torch\n",
    "import torch.nn as nn\n",
    "\n",
    "\n",
    "class RNN(nn.Module):\n",
    "    def __init__(self, input_size, hidden_size, output_size):\n",
    "        super(RNN, self).__init__()\n",
    "        self.hidden_size = hidden_size\n",
    "\n",
    "        self.i2h = nn.Linear(n_categories + input_size + hidden_size, hidden_size)\n",
    "        self.i2o = nn.Linear(n_categories + input_size + hidden_size, output_size)\n",
    "        self.o2o = nn.Linear(hidden_size + output_size, output_size)\n",
    "        self.dropout = nn.Dropout(0.1)\n",
    "        self.softmax = nn.LogSoftmax(dim=1)\n",
    "\n",
    "    def forward(self, category, input, hidden):\n",
    "        input_combined = torch.cat((category, input, hidden), 1)\n",
    "        hidden = self.i2h(input_combined)\n",
    "        output = self.i2o(input_combined)\n",
    "        output_combined = torch.cat((hidden, output), 1)\n",
    "        output = self.o2o(output_combined)\n",
    "        output = self.dropout(output)\n",
    "        output = self.softmax(output)\n",
    "        return output, hidden\n",
    "\n",
    "    def initHidden(self):\n",
    "        return torch.zeros(1, self.hidden_size)"
   ]
  },
  {
   "cell_type": "code",
   "execution_count": 65,
   "metadata": {
    "collapsed": false
   },
   "outputs": [],
   "source": [
    "criterion = nn.NLLLoss()\n",
    "\n",
    "learning_rate = 0.0005\n",
    "\n",
    "\n",
    "def train(rnn, category_tensor, input_line_tensor, target_line_tensor):\n",
    "    hidden = rnn.initHidden()\n",
    "\n",
    "    rnn.zero_grad()\n",
    "\n",
    "    loss = torch.Tensor([0])  # you can also just simply use ``loss = 0``\n",
    "\n",
    "    for i in range(input_line_tensor.size(0)):\n",
    "        output, hidden = rnn(category_tensor, input_line_tensor[i], hidden)\n",
    "        step_loss = criterion(output, target_line_tensor[i])\n",
    "        loss += step_loss\n",
    "\n",
    "    loss.backward()\n",
    "\n",
    "    for p in rnn.parameters():\n",
    "        p.data.add_(p.grad.data, alpha=-learning_rate)\n",
    "\n",
    "    return output, loss.item() / input_line_tensor.size(0)"
   ]
  },
  {
   "cell_type": "code",
   "execution_count": 66,
   "metadata": {
    "collapsed": false
   },
   "outputs": [],
   "source": [
    "import math\n",
    "import time\n",
    "\n",
    "\n",
    "def timeSince(since):\n",
    "    now = time.time()\n",
    "    s = now - since\n",
    "    m = math.floor(s / 60)\n",
    "    s -= m * 60\n",
    "    return \"%dm %ds\" % (m, s)"
   ]
  },
  {
   "cell_type": "code",
   "execution_count": 67,
   "metadata": {
    "collapsed": false
   },
   "outputs": [
    {
     "name": "stdout",
     "output_type": "stream",
     "text": [
      "0m 4s (5000 5%) 3.1921\n",
      "0m 9s (10000 10%) 2.1404\n",
      "0m 13s (15000 15%) 3.2505\n",
      "0m 18s (20000 20%) 2.5055\n",
      "0m 22s (25000 25%) 2.5338\n",
      "0m 26s (30000 30%) 2.7414\n",
      "0m 31s (35000 35%) 3.0684\n",
      "0m 35s (40000 40%) 2.8674\n",
      "0m 40s (45000 45%) 2.9021\n",
      "0m 44s (50000 50%) 3.0841\n",
      "0m 49s (55000 55%) 2.4203\n",
      "0m 53s (60000 60%) 1.6991\n",
      "0m 58s (65000 65%) 2.9048\n",
      "1m 2s (70000 70%) 2.2415\n",
      "1m 6s (75000 75%) 3.1095\n",
      "1m 11s (80000 80%) 2.7211\n",
      "1m 15s (85000 85%) 2.9189\n",
      "1m 20s (90000 90%) 2.0587\n",
      "1m 24s (95000 95%) 1.5012\n",
      "1m 29s (100000 100%) 1.9505\n"
     ]
    }
   ],
   "source": [
    "rnn = RNN(n_letters, 128, n_letters)\n",
    "\n",
    "n_iters = 100000\n",
    "print_every = 5000\n",
    "plot_every = 500\n",
    "all_losses = []\n",
    "total_loss = 0  # Reset every ``plot_every`` ``iters``\n",
    "\n",
    "start = time.time()\n",
    "\n",
    "one_hot_letters = torch.eye(n_letters)\n",
    "one_hot_categories = torch.eye(n_categories)\n",
    "\n",
    "for iter in range(1, n_iters + 1):\n",
    "    idx = torch.randint(0, len(labels_tensor), (1,)).item()\n",
    "    name = names_tensor[idx]\n",
    "    name_one_hot = one_hot_letters[names_tensor[idx]].unsqueeze(1)\n",
    "    cat_one_hot = one_hot_categories[labels_tensor[idx]].unsqueeze(0)\n",
    "    # left shift 1 the name tensor to get the target\n",
    "    target = torch.cat((name[1:], torch.tensor([n_letters - 1])), 0).unsqueeze(1)\n",
    "\n",
    "    output, loss = train(rnn, cat_one_hot, name_one_hot, target)\n",
    "    total_loss += loss\n",
    "\n",
    "    if iter % print_every == 0:\n",
    "        print(\n",
    "            \"%s (%d %d%%) %.4f\" % (timeSince(start), iter, iter / n_iters * 100, loss)\n",
    "        )\n",
    "\n",
    "    if iter % plot_every == 0:\n",
    "        all_losses.append(total_loss / plot_every)\n",
    "        total_loss = 0"
   ]
  },
  {
   "cell_type": "code",
   "execution_count": 91,
   "metadata": {
    "collapsed": false
   },
   "outputs": [
    {
     "data": {
      "image/png": "[encoded data removed]",
      "text/plain": [
       "<Figure size 640x480 with 1 Axes>"
      ]
     },
     "metadata": {},
     "output_type": "display_data"
    }
   ],
   "source": [
    "import matplotlib.pyplot as plt\n",
    "\n",
    "plt.figure()\n",
    "plt.plot(all_losses)\n",
    "plt.rc('font', family='serif')\n",
    "plt.xlabel(\"Iteration\")\n",
    "plt.ylabel(\"Loss\")\n",
    "plt.show()"
   ]
  },
  {
   "cell_type": "code",
   "execution_count": 81,
   "metadata": {
    "collapsed": false
   },
   "outputs": [
    {
     "name": "stdout",
     "output_type": "stream",
     "text": [
      "Samples for [Russian]:\n",
      "\t Rakhanin\n",
      "\t Uakhin\n",
      "\t Shinov\n",
      "Samples for [German]:\n",
      "\t Gerter\n",
      "\t Erer\n",
      "\t Rour\n",
      "Samples for [Spanish]:\n",
      "\t Saran\n",
      "\t Para\n",
      "\t Anaran\n",
      "Samples for [Chinese]:\n",
      "\t Chan\n",
      "\t Han\n",
      "\t Ion\n"
     ]
    }
   ],
   "source": [
    "max_length = 20\n",
    "\n",
    "\n",
    "# Sample from a category and starting letter\n",
    "def sample(category, start_letter=\"A\"):\n",
    "    with torch.no_grad():  # no need to track history in sampling\n",
    "        one_hot_categories = torch.eye(n_categories)\n",
    "        one_hot_letters = torch.eye(n_letters)\n",
    "        category_tensor = one_hot_categories[all_categories.index(category)].unsqueeze(\n",
    "            0\n",
    "        )\n",
    "        input = one_hot_letters[letter_to_index[start_letter]].unsqueeze(0).unsqueeze(0)\n",
    "        hidden = rnn.initHidden()\n",
    "\n",
    "        output_name = start_letter\n",
    "\n",
    "        for i in range(max_length):\n",
    "            output, hidden = rnn(category_tensor, input[0], hidden)\n",
    "            topv, topi = output.topk(1)\n",
    "            topi = topi[0][0]\n",
    "            if topi == n_letters - 1:\n",
    "                break\n",
    "            else:\n",
    "                letter = all_letters[topi]\n",
    "                output_name += letter\n",
    "            input = one_hot_letters[topi].unsqueeze(0).unsqueeze(0)\n",
    "\n",
    "        return output_name\n",
    "\n",
    "\n",
    "# Get multiple samples from one category and multiple starting letters\n",
    "def samples(category, start_letters=\"ABC\"):\n",
    "    print(f\"Samples for [{category}]:\")\n",
    "    for start_letter in start_letters:\n",
    "        print(\"\\t\", sample(category, start_letter))\n",
    "\n",
    "\n",
    "samples(\"Russian\", \"RUS\")\n",
    "\n",
    "samples(\"German\", \"GER\")\n",
    "\n",
    "samples(\"Spanish\", \"SPA\")\n",
    "\n",
    "samples(\"Chinese\", \"CHI\")"
   ]
  }
 ],
 "metadata": {
  "kernelspec": {
   "display_name": ".venv",
   "language": "python",
   "name": "python3"
  },
  "language_info": {
   "codemirror_mode": {
    "name": "ipython",
    "version": 3
   },
   "file_extension": ".py",
   "mimetype": "text/x-python",
   "name": "python",
   "nbconvert_exporter": "python",
   "pygments_lexer": "ipython3",
   "version": "3.12.5"
  }
 },
 "nbformat": 4,
 "nbformat_minor": 0
}
