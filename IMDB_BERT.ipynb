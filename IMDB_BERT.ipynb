{
 "cells": [
  {
   "cell_type": "code",
   "execution_count": 2,
   "metadata": {},
   "outputs": [
    {
     "name": "stderr",
     "output_type": "stream",
     "text": [
      "/Users/cg/Desktop/xlnet/.venv/lib/python3.12/site-packages/tqdm/auto.py:21: TqdmWarning: IProgress not found. Please update jupyter and ipywidgets. See https://ipywidgets.readthedocs.io/en/stable/user_install.html\n",
      "  from .autonotebook import tqdm as notebook_tqdm\n",
      "/Users/cg/Desktop/xlnet/.venv/lib/python3.12/site-packages/torchdata/datapipes/__init__.py:18: UserWarning: \n",
      "################################################################################\n",
      "WARNING!\n",
      "The 'datapipes', 'dataloader2' modules are deprecated and will be removed in a\n",
      "future torchdata release! Please see https://github.com/pytorch/data/issues/1196\n",
      "to learn more and leave feedback.\n",
      "################################################################################\n",
      "\n",
      "  deprecation_warning()\n"
     ]
    }
   ],
   "source": [
    "import torch\n",
    "import torchtext\n",
    "from torch.utils.data import DataLoader, TensorDataset\n",
    "\n",
    "torchtext.disable_torchtext_deprecation_warning()\n",
    "\n",
    "from sklearn.metrics import accuracy_score\n",
    "from torch.utils.data import DataLoader\n",
    "from torchtext.datasets import IMDB\n",
    "from transformers import (\n",
    "    AdamW,\n",
    "    BertModel,\n",
    "    BertTokenizer,\n",
    "    get_linear_schedule_with_warmup,\n",
    ")\n",
    "\n",
    "DEVICE = torch.device(\"cuda\" if torch.cuda.is_available() else \"cpu\")\n"
   ]
  },
  {
   "cell_type": "markdown",
   "metadata": {},
   "source": [
    "## Prepare the IMDB dataset"
   ]
  },
  {
   "cell_type": "code",
   "execution_count": null,
   "metadata": {},
   "outputs": [],
   "source": [
    "# Load AG News Dataset\n",
    "train_datapip = IMDB(split=\"train\")  # type: ignore\n",
    "test_datapip = IMDB(split=\"test\")  # type: ignore\n",
    "\n",
    "# Define tokenizer and model\n",
    "tokenizer = BertTokenizer.from_pretrained(\"bert-base-uncased\")\n",
    "model = BertModel.from_pretrained(\"bert-base-uncased\").to(DEVICE)\n",
    "\n",
    "\n",
    "# Preprocessing and Tokenization function\n",
    "def preprocess(batch):\n",
    "    labels, texts = zip(*batch)\n",
    "    inputs = tokenizer(\n",
    "        list(texts), padding=True, truncation=True, return_tensors=\"pt\", max_length=512\n",
    "    )\n",
    "    labels = torch.tensor(labels) - 1  # Label 0-indexed for PyTorch\n",
    "    return inputs, labels\n",
    "\n",
    "# DataLoader creation\n",
    "batch_size = 32\n",
    "\n",
    "train_loader = DataLoader(\n",
    "    train_datapip, shuffle=True, batch_size=batch_size, collate_fn=preprocess\n",
    ")\n",
    "test_loader = DataLoader(test_datapip, batch_size=batch_size, collate_fn=preprocess)"
   ]
  },
  {
   "cell_type": "markdown",
   "metadata": {},
   "source": [
    "## Convert text input into BERT embeddings"
   ]
  },
  {
   "cell_type": "code",
   "execution_count": null,
   "metadata": {},
   "outputs": [],
   "source": [
    "train_embeddings = []\n",
    "train_labels = []\n",
    "test_embeddings = []\n",
    "test_labels = []\n",
    "with torch.no_grad():\n",
    "    for inputs, labels in train_loader:\n",
    "        outputs = model(**{k: v.to(DEVICE) for k, v in inputs.items()})\n",
    "        train_embeddings.append(outputs.last_hidden_state.cpu())\n",
    "        train_labels.append(labels)\n",
    "    for inputs, labels in test_loader:\n",
    "        outputs = model(**{k: v.to(DEVICE) for k, v in inputs.items()})\n",
    "        test_embeddings.append(outputs.last_hidden_state.cpu())\n",
    "        test_labels.append(labels)\n",
    "\n",
    "train_embeddings = torch.cat(train_embeddings)\n",
    "train_labels = torch.cat(train_labels)\n",
    "test_embeddings = torch.cat(test_embeddings)\n",
    "test_labels = torch.cat(test_labels)\n",
    "\n",
    "# save embeddings and labels\n",
    "torch.save(train_embeddings, \"IMDB_train_embeddings.pt\")\n",
    "torch.save(train_labels, \"IMDB_train_labels.pt\")\n",
    "torch.save(test_embeddings, \"IMDB_test_embeddings.pt\")\n",
    "torch.save(test_labels, \"IMDB_test_labels.pt\")"
   ]
  },
  {
   "cell_type": "markdown",
   "metadata": {},
   "source": [
    "## Define the classification model"
   ]
  },
  {
   "cell_type": "code",
   "execution_count": null,
   "metadata": {},
   "outputs": [],
   "source": [
    "classifier = torch.nn.Linear(768, 2).to(DEVICE)\n",
    "criterion = torch.nn.CrossEntropyLoss()\n",
    "optimizer = AdamW(classifier.parameters(), lr=1e-5)\n",
    "\n",
    "train_dataset = TensorDataset(train_embeddings, train_labels)\n",
    "test_dataset = TensorDataset(test_embeddings, test_labels)\n",
    "train_loader = DataLoader(train_dataset, batch_size=32, shuffle=True)\n",
    "test_loader = DataLoader(test_dataset, batch_size=32)\n",
    "\n",
    "\n",
    "# Training function\n",
    "def train(model, loader, optimizer):\n",
    "    model.train()\n",
    "    total_loss = 0\n",
    "    for step, (inputs, labels) in enumerate(loader):\n",
    "        optimizer.zero_grad()\n",
    "        # outputs = model(**inputs, labels=labels)\n",
    "        outputs = model(inputs)\n",
    "        loss = criterion(outputs.logits, labels)\n",
    "        loss.backward()\n",
    "        optimizer.step()\n",
    "        total_loss += loss.item()\n",
    "    return total_loss\n",
    "\n",
    "\n",
    "# Evaluation function\n",
    "def evaluate(model, loader):\n",
    "    model.eval()\n",
    "    preds, true_labels = [], []\n",
    "    with torch.no_grad():\n",
    "        for step, (inputs, labels) in enumerate(loader):\n",
    "            outputs = model(inputs)\n",
    "            preds.extend(torch.argmax(outputs.logits, axis=1).cpu().numpy())\n",
    "            true_labels.extend(labels.cpu().numpy())\n",
    "    return accuracy_score(true_labels, preds)\n",
    "\n",
    "\n",
    "# Training loop\n",
    "num_epochs = 1\n",
    "device = torch.device(\"cuda\" if torch.cuda.is_available() else \"cpu\")\n",
    "model.to(DEVICE)\n",
    "\n",
    "for epoch in range(num_epochs):\n",
    "    train_loss = train(model, train_loader, optimizer)\n",
    "    test_accuracy = evaluate(model, test_loader)\n",
    "    print(\n",
    "        f\"Epoch {epoch+1}/{num_epochs}, Training Loss: {train_loss:.4f}, Test Accuracy: {test_accuracy:.4f}\"\n",
    "    )\n",
    "\n",
    "print(\"Training complete.\")\n"
   ]
  }
 ],
 "metadata": {
  "kernelspec": {
   "display_name": ".venv",
   "language": "python",
   "name": "python3"
  },
  "language_info": {
   "codemirror_mode": {
    "name": "ipython",
    "version": 3
   },
   "file_extension": ".py",
   "mimetype": "text/x-python",
   "name": "python",
   "nbconvert_exporter": "python",
   "pygments_lexer": "ipython3",
   "version": "3.12.5"
  }
 },
 "nbformat": 4,
 "nbformat_minor": 2
}
